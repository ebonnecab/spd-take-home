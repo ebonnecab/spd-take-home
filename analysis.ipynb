{
 "cells": [
  {
   "cell_type": "code",
   "execution_count": 3,
   "metadata": {},
   "outputs": [],
   "source": [
    "#import packages\n",
    "import pandas as pd\n",
    "import csv\n",
    "import seaborn as sns\n",
    "import numpy as np"
   ]
  },
  {
   "cell_type": "markdown",
   "metadata": {},
   "source": [
    "*Step 1*: Read the data into a pandas dataframe for data manipulation and analyis"
   ]
  },
  {
   "cell_type": "code",
   "execution_count": 4,
   "metadata": {},
   "outputs": [
    {
     "data": {
      "text/html": [
       "<div>\n",
       "<style scoped>\n",
       "    .dataframe tbody tr th:only-of-type {\n",
       "        vertical-align: middle;\n",
       "    }\n",
       "\n",
       "    .dataframe tbody tr th {\n",
       "        vertical-align: top;\n",
       "    }\n",
       "\n",
       "    .dataframe thead th {\n",
       "        text-align: right;\n",
       "    }\n",
       "</style>\n",
       "<table border=\"1\" class=\"dataframe\">\n",
       "  <thead>\n",
       "    <tr style=\"text-align: right;\">\n",
       "      <th></th>\n",
       "      <th>Report Number</th>\n",
       "      <th>Occurred Date</th>\n",
       "      <th>Occurred Time</th>\n",
       "      <th>Reported Date</th>\n",
       "      <th>Reported Time</th>\n",
       "      <th>Crime Subcategory</th>\n",
       "      <th>Primary Offense Description</th>\n",
       "      <th>Precinct</th>\n",
       "      <th>Sector</th>\n",
       "      <th>Beat</th>\n",
       "      <th>Neighborhood</th>\n",
       "    </tr>\n",
       "  </thead>\n",
       "  <tbody>\n",
       "    <tr>\n",
       "      <th>0</th>\n",
       "      <td>1975000079415</td>\n",
       "      <td>12/16/1975</td>\n",
       "      <td>900.0</td>\n",
       "      <td>12/16/1975</td>\n",
       "      <td>1500.0</td>\n",
       "      <td>BURGLARY-RESIDENTIAL</td>\n",
       "      <td>BURGLARY-FORCE-RES</td>\n",
       "      <td>SOUTH</td>\n",
       "      <td>R</td>\n",
       "      <td>R3</td>\n",
       "      <td>LAKEWOOD/SEWARD PARK</td>\n",
       "    </tr>\n",
       "    <tr>\n",
       "      <th>1</th>\n",
       "      <td>1976000069169</td>\n",
       "      <td>01/01/1976</td>\n",
       "      <td>1.0</td>\n",
       "      <td>01/31/1976</td>\n",
       "      <td>2359.0</td>\n",
       "      <td>SEX OFFENSE-OTHER</td>\n",
       "      <td>SEXOFF-INDECENT LIBERTIES</td>\n",
       "      <td>UNKNOWN</td>\n",
       "      <td>NaN</td>\n",
       "      <td>NaN</td>\n",
       "      <td>UNKNOWN</td>\n",
       "    </tr>\n",
       "    <tr>\n",
       "      <th>2</th>\n",
       "      <td>1979000049118</td>\n",
       "      <td>01/28/1979</td>\n",
       "      <td>1600.0</td>\n",
       "      <td>02/09/1979</td>\n",
       "      <td>1430.0</td>\n",
       "      <td>CAR PROWL</td>\n",
       "      <td>THEFT-CARPROWL</td>\n",
       "      <td>EAST</td>\n",
       "      <td>G</td>\n",
       "      <td>G2</td>\n",
       "      <td>CENTRAL AREA/SQUIRE PARK</td>\n",
       "    </tr>\n",
       "    <tr>\n",
       "      <th>3</th>\n",
       "      <td>19810000305573</td>\n",
       "      <td>08/22/1981</td>\n",
       "      <td>2029.0</td>\n",
       "      <td>08/22/1981</td>\n",
       "      <td>2030.0</td>\n",
       "      <td>HOMICIDE</td>\n",
       "      <td>HOMICIDE-PREMEDITATED-WEAPON</td>\n",
       "      <td>SOUTH</td>\n",
       "      <td>S</td>\n",
       "      <td>S2</td>\n",
       "      <td>BRIGHTON/DUNLAP</td>\n",
       "    </tr>\n",
       "    <tr>\n",
       "      <th>4</th>\n",
       "      <td>1981000076456</td>\n",
       "      <td>02/14/1981</td>\n",
       "      <td>2000.0</td>\n",
       "      <td>02/15/1981</td>\n",
       "      <td>435.0</td>\n",
       "      <td>BURGLARY-RESIDENTIAL</td>\n",
       "      <td>BURGLARY-FORCE-RES</td>\n",
       "      <td>SOUTHWEST</td>\n",
       "      <td>W</td>\n",
       "      <td>W3</td>\n",
       "      <td>ROXHILL/WESTWOOD/ARBOR HEIGHTS</td>\n",
       "    </tr>\n",
       "    <tr>\n",
       "      <th>5</th>\n",
       "      <td>19880000507482</td>\n",
       "      <td>09/29/1988</td>\n",
       "      <td>155.0</td>\n",
       "      <td>09/29/1988</td>\n",
       "      <td>155.0</td>\n",
       "      <td>MOTOR VEHICLE THEFT</td>\n",
       "      <td>VEH-THEFT-AUTO</td>\n",
       "      <td>WEST</td>\n",
       "      <td>M</td>\n",
       "      <td>M2</td>\n",
       "      <td>SLU/CASCADE</td>\n",
       "    </tr>\n",
       "    <tr>\n",
       "      <th>6</th>\n",
       "      <td>19930000465323</td>\n",
       "      <td>10/08/1993</td>\n",
       "      <td>2213.0</td>\n",
       "      <td>10/08/1993</td>\n",
       "      <td>2213.0</td>\n",
       "      <td>HOMICIDE</td>\n",
       "      <td>HOMICIDE-PREMEDITATED-GUN</td>\n",
       "      <td>SOUTH</td>\n",
       "      <td>R</td>\n",
       "      <td>R2</td>\n",
       "      <td>CLAREMONT/RAINIER VISTA</td>\n",
       "    </tr>\n",
       "    <tr>\n",
       "      <th>7</th>\n",
       "      <td>19940000264046</td>\n",
       "      <td>06/08/1994</td>\n",
       "      <td>0.0</td>\n",
       "      <td>06/12/1994</td>\n",
       "      <td>844.0</td>\n",
       "      <td>THEFT-ALL OTHER</td>\n",
       "      <td>THEFT-OTH</td>\n",
       "      <td>SOUTHWEST</td>\n",
       "      <td>F</td>\n",
       "      <td>F1</td>\n",
       "      <td>HIGH POINT</td>\n",
       "    </tr>\n",
       "    <tr>\n",
       "      <th>8</th>\n",
       "      <td>19960000543964</td>\n",
       "      <td>12/08/1996</td>\n",
       "      <td>1130.0</td>\n",
       "      <td>12/08/1996</td>\n",
       "      <td>1700.0</td>\n",
       "      <td>CAR PROWL</td>\n",
       "      <td>THEFT-CARPROWL</td>\n",
       "      <td>SOUTH</td>\n",
       "      <td>O</td>\n",
       "      <td>O1</td>\n",
       "      <td>SODO</td>\n",
       "    </tr>\n",
       "    <tr>\n",
       "      <th>9</th>\n",
       "      <td>19990000333737</td>\n",
       "      <td>NaN</td>\n",
       "      <td>NaN</td>\n",
       "      <td>01/01/1999</td>\n",
       "      <td>NaN</td>\n",
       "      <td>THEFT-SHOPLIFT</td>\n",
       "      <td>THEFT-SHOPLIFT</td>\n",
       "      <td>UNKNOWN</td>\n",
       "      <td>NaN</td>\n",
       "      <td>NaN</td>\n",
       "      <td>UNKNOWN</td>\n",
       "    </tr>\n",
       "  </tbody>\n",
       "</table>\n",
       "</div>"
      ],
      "text/plain": [
       "    Report Number Occurred Date  Occurred Time Reported Date  Reported Time  \\\n",
       "0   1975000079415    12/16/1975          900.0    12/16/1975         1500.0   \n",
       "1   1976000069169    01/01/1976            1.0    01/31/1976         2359.0   \n",
       "2   1979000049118    01/28/1979         1600.0    02/09/1979         1430.0   \n",
       "3  19810000305573    08/22/1981         2029.0    08/22/1981         2030.0   \n",
       "4   1981000076456    02/14/1981         2000.0    02/15/1981          435.0   \n",
       "5  19880000507482    09/29/1988          155.0    09/29/1988          155.0   \n",
       "6  19930000465323    10/08/1993         2213.0    10/08/1993         2213.0   \n",
       "7  19940000264046    06/08/1994            0.0    06/12/1994          844.0   \n",
       "8  19960000543964    12/08/1996         1130.0    12/08/1996         1700.0   \n",
       "9  19990000333737           NaN            NaN    01/01/1999            NaN   \n",
       "\n",
       "      Crime Subcategory   Primary Offense Description   Precinct Sector Beat  \\\n",
       "0  BURGLARY-RESIDENTIAL            BURGLARY-FORCE-RES      SOUTH      R   R3   \n",
       "1     SEX OFFENSE-OTHER     SEXOFF-INDECENT LIBERTIES    UNKNOWN    NaN  NaN   \n",
       "2             CAR PROWL                THEFT-CARPROWL       EAST      G   G2   \n",
       "3              HOMICIDE  HOMICIDE-PREMEDITATED-WEAPON      SOUTH      S   S2   \n",
       "4  BURGLARY-RESIDENTIAL            BURGLARY-FORCE-RES  SOUTHWEST      W   W3   \n",
       "5   MOTOR VEHICLE THEFT                VEH-THEFT-AUTO       WEST      M   M2   \n",
       "6              HOMICIDE     HOMICIDE-PREMEDITATED-GUN      SOUTH      R   R2   \n",
       "7       THEFT-ALL OTHER                     THEFT-OTH  SOUTHWEST      F   F1   \n",
       "8             CAR PROWL                THEFT-CARPROWL      SOUTH      O   O1   \n",
       "9        THEFT-SHOPLIFT                THEFT-SHOPLIFT    UNKNOWN    NaN  NaN   \n",
       "\n",
       "                     Neighborhood  \n",
       "0            LAKEWOOD/SEWARD PARK  \n",
       "1                         UNKNOWN  \n",
       "2        CENTRAL AREA/SQUIRE PARK  \n",
       "3                 BRIGHTON/DUNLAP  \n",
       "4  ROXHILL/WESTWOOD/ARBOR HEIGHTS  \n",
       "5                     SLU/CASCADE  \n",
       "6         CLAREMONT/RAINIER VISTA  \n",
       "7                      HIGH POINT  \n",
       "8                            SODO  \n",
       "9                         UNKNOWN  "
      ]
     },
     "execution_count": 4,
     "metadata": {},
     "output_type": "execute_result"
    }
   ],
   "source": [
    "df = pd.read_csv('Crime_Data.csv')\n",
    "df.head(10)"
   ]
  },
  {
   "cell_type": "markdown",
   "metadata": {},
   "source": [
    "*Step 2*: Examine and clean the data for a more accurate analysis"
   ]
  },
  {
   "cell_type": "code",
   "execution_count": 5,
   "metadata": {},
   "outputs": [
    {
     "name": "stdout",
     "output_type": "stream",
     "text": [
      "Index([u'Report Number', u'Occurred Date', u'Occurred Time', u'Reported Date',\n",
      "       u'Reported Time', u'Crime Subcategory', u'Primary Offense Description',\n",
      "       u'Precinct', u'Sector', u'Beat', u'Neighborhood'],\n",
      "      dtype='object')\n"
     ]
    }
   ],
   "source": [
    "#get column names\n",
    "column_names = df.columns\n",
    "print(column_names)"
   ]
  },
  {
   "cell_type": "code",
   "execution_count": 6,
   "metadata": {},
   "outputs": [
    {
     "data": {
      "text/plain": [
       "Report Number                    int64\n",
       "Occurred Date                   object\n",
       "Occurred Time                  float64\n",
       "Reported Date                   object\n",
       "Reported Time                  float64\n",
       "Crime Subcategory               object\n",
       "Primary Offense Description     object\n",
       "Precinct                        object\n",
       "Sector                          object\n",
       "Beat                            object\n",
       "Neighborhood                    object\n",
       "dtype: object"
      ]
     },
     "execution_count": 6,
     "metadata": {},
     "output_type": "execute_result"
    }
   ],
   "source": [
    "#get column datatypes\n",
    "df.dtypes"
   ]
  },
  {
   "cell_type": "code",
   "execution_count": 9,
   "metadata": {},
   "outputs": [],
   "source": [
    "#drop columns I don't plan on using\n",
    "df = df.drop(['Occurred Time', 'Reported Time', 'Sector', 'Beat'], axis=1)"
   ]
  },
  {
   "cell_type": "code",
   "execution_count": 10,
   "metadata": {},
   "outputs": [
    {
     "data": {
      "text/html": [
       "<div>\n",
       "<style scoped>\n",
       "    .dataframe tbody tr th:only-of-type {\n",
       "        vertical-align: middle;\n",
       "    }\n",
       "\n",
       "    .dataframe tbody tr th {\n",
       "        vertical-align: top;\n",
       "    }\n",
       "\n",
       "    .dataframe thead th {\n",
       "        text-align: right;\n",
       "    }\n",
       "</style>\n",
       "<table border=\"1\" class=\"dataframe\">\n",
       "  <thead>\n",
       "    <tr style=\"text-align: right;\">\n",
       "      <th></th>\n",
       "      <th>Report Number</th>\n",
       "      <th>Occurred Date</th>\n",
       "      <th>Reported Date</th>\n",
       "      <th>Crime Subcategory</th>\n",
       "      <th>Primary Offense Description</th>\n",
       "      <th>Precinct</th>\n",
       "      <th>Neighborhood</th>\n",
       "    </tr>\n",
       "  </thead>\n",
       "  <tbody>\n",
       "    <tr>\n",
       "      <th>0</th>\n",
       "      <td>1975000079415</td>\n",
       "      <td>12/16/1975</td>\n",
       "      <td>12/16/1975</td>\n",
       "      <td>BURGLARY-RESIDENTIAL</td>\n",
       "      <td>BURGLARY-FORCE-RES</td>\n",
       "      <td>SOUTH</td>\n",
       "      <td>LAKEWOOD/SEWARD PARK</td>\n",
       "    </tr>\n",
       "    <tr>\n",
       "      <th>1</th>\n",
       "      <td>1976000069169</td>\n",
       "      <td>01/01/1976</td>\n",
       "      <td>01/31/1976</td>\n",
       "      <td>SEX OFFENSE-OTHER</td>\n",
       "      <td>SEXOFF-INDECENT LIBERTIES</td>\n",
       "      <td>UNKNOWN</td>\n",
       "      <td>UNKNOWN</td>\n",
       "    </tr>\n",
       "    <tr>\n",
       "      <th>2</th>\n",
       "      <td>1979000049118</td>\n",
       "      <td>01/28/1979</td>\n",
       "      <td>02/09/1979</td>\n",
       "      <td>CAR PROWL</td>\n",
       "      <td>THEFT-CARPROWL</td>\n",
       "      <td>EAST</td>\n",
       "      <td>CENTRAL AREA/SQUIRE PARK</td>\n",
       "    </tr>\n",
       "    <tr>\n",
       "      <th>3</th>\n",
       "      <td>19810000305573</td>\n",
       "      <td>08/22/1981</td>\n",
       "      <td>08/22/1981</td>\n",
       "      <td>HOMICIDE</td>\n",
       "      <td>HOMICIDE-PREMEDITATED-WEAPON</td>\n",
       "      <td>SOUTH</td>\n",
       "      <td>BRIGHTON/DUNLAP</td>\n",
       "    </tr>\n",
       "    <tr>\n",
       "      <th>4</th>\n",
       "      <td>1981000076456</td>\n",
       "      <td>02/14/1981</td>\n",
       "      <td>02/15/1981</td>\n",
       "      <td>BURGLARY-RESIDENTIAL</td>\n",
       "      <td>BURGLARY-FORCE-RES</td>\n",
       "      <td>SOUTHWEST</td>\n",
       "      <td>ROXHILL/WESTWOOD/ARBOR HEIGHTS</td>\n",
       "    </tr>\n",
       "  </tbody>\n",
       "</table>\n",
       "</div>"
      ],
      "text/plain": [
       "    Report Number Occurred Date Reported Date     Crime Subcategory  \\\n",
       "0   1975000079415    12/16/1975    12/16/1975  BURGLARY-RESIDENTIAL   \n",
       "1   1976000069169    01/01/1976    01/31/1976     SEX OFFENSE-OTHER   \n",
       "2   1979000049118    01/28/1979    02/09/1979             CAR PROWL   \n",
       "3  19810000305573    08/22/1981    08/22/1981              HOMICIDE   \n",
       "4   1981000076456    02/14/1981    02/15/1981  BURGLARY-RESIDENTIAL   \n",
       "\n",
       "    Primary Offense Description   Precinct                    Neighborhood  \n",
       "0            BURGLARY-FORCE-RES      SOUTH            LAKEWOOD/SEWARD PARK  \n",
       "1     SEXOFF-INDECENT LIBERTIES    UNKNOWN                         UNKNOWN  \n",
       "2                THEFT-CARPROWL       EAST        CENTRAL AREA/SQUIRE PARK  \n",
       "3  HOMICIDE-PREMEDITATED-WEAPON      SOUTH                 BRIGHTON/DUNLAP  \n",
       "4            BURGLARY-FORCE-RES  SOUTHWEST  ROXHILL/WESTWOOD/ARBOR HEIGHTS  "
      ]
     },
     "execution_count": 10,
     "metadata": {},
     "output_type": "execute_result"
    }
   ],
   "source": [
    "df.head()"
   ]
  },
  {
   "cell_type": "code",
   "execution_count": 12,
   "metadata": {},
   "outputs": [
    {
     "name": "stdout",
     "output_type": "stream",
     "text": [
      "<class 'pandas.core.frame.DataFrame'>\n",
      "RangeIndex: 523590 entries, 0 to 523589\n",
      "Data columns (total 7 columns):\n",
      "Report Number                  523590 non-null int64\n",
      "Occurred Date                  523588 non-null object\n",
      "Reported Date                  523590 non-null object\n",
      "Crime Subcategory              523328 non-null object\n",
      "Primary Offense Description    523590 non-null object\n",
      "Precinct                       523584 non-null object\n",
      "Neighborhood                   523590 non-null object\n",
      "dtypes: int64(1), object(6)\n",
      "memory usage: 28.0+ MB\n"
     ]
    }
   ],
   "source": [
    "#reexamining the dataframe after dropping those columns\n",
    "df.info()"
   ]
  },
  {
   "cell_type": "markdown",
   "metadata": {},
   "source": [
    "**From my observation, our data is primarily categorical.**"
   ]
  },
  {
   "cell_type": "code",
   "execution_count": 13,
   "metadata": {},
   "outputs": [
    {
     "name": "stdout",
     "output_type": "stream",
     "text": [
      "Empty DataFrame\n",
      "Columns: [Report Number, Occurred Date, Reported Date, Crime Subcategory, Primary Offense Description, Precinct, Neighborhood]\n",
      "Index: []\n"
     ]
    }
   ],
   "source": [
    "#looking for duplicate rows (there are none)\n",
    "duplicatesdf = df[df.duplicated()]\n",
    "print(duplicatesdf)"
   ]
  },
  {
   "cell_type": "code",
   "execution_count": 14,
   "metadata": {},
   "outputs": [
    {
     "data": {
      "text/plain": [
       "Report Number                  False\n",
       "Occurred Date                   True\n",
       "Reported Date                  False\n",
       "Crime Subcategory               True\n",
       "Primary Offense Description    False\n",
       "Precinct                        True\n",
       "Neighborhood                   False\n",
       "dtype: bool"
      ]
     },
     "execution_count": 14,
     "metadata": {},
     "output_type": "execute_result"
    }
   ],
   "source": [
    "#checking if any columns contain na values\n",
    "df.isna().any()"
   ]
  },
  {
   "cell_type": "code",
   "execution_count": 15,
   "metadata": {},
   "outputs": [],
   "source": [
    "#dropping rows with NaN values\n",
    "df = df.dropna()"
   ]
  },
  {
   "cell_type": "code",
   "execution_count": 24,
   "metadata": {},
   "outputs": [],
   "source": [
    "#change column names for easier data manipulation\n",
    "df=df.rename(columns = {'Report Number':'report_num', 'Occurred Date':'occurred_date',\n",
    "                        'Reported Date':'reported_date', 'Crime Subcategory':'crime_subcategory',\n",
    "                       'Primary Offense Description':'primary_offense_descript'})"
   ]
  },
  {
   "cell_type": "code",
   "execution_count": 25,
   "metadata": {},
   "outputs": [
    {
     "data": {
      "text/plain": [
       "array(['SOUTH', 'UNKNOWN', 'EAST', 'SOUTHWEST', 'WEST', 'NORTH'],\n",
       "      dtype=object)"
      ]
     },
     "execution_count": 25,
     "metadata": {},
     "output_type": "execute_result"
    }
   ],
   "source": [
    "#showing array of unique Precincts\n",
    "df.Precinct.unique()"
   ]
  },
  {
   "cell_type": "code",
   "execution_count": 26,
   "metadata": {},
   "outputs": [
    {
     "data": {
      "text/plain": [
       "array(['LAKEWOOD/SEWARD PARK', 'UNKNOWN', 'CENTRAL AREA/SQUIRE PARK',\n",
       "       'BRIGHTON/DUNLAP', 'ROXHILL/WESTWOOD/ARBOR HEIGHTS', 'SLU/CASCADE',\n",
       "       'CLAREMONT/RAINIER VISTA', 'HIGH POINT', 'SODO',\n",
       "       'DOWNTOWN COMMERCIAL', 'FIRST HILL',\n",
       "       'JUDKINS PARK/NORTH BEACON HILL', 'NORTH ADMIRAL', 'MILLER PARK',\n",
       "       'HILLMAN CITY', 'MORGAN', 'SOUTH PARK', 'MONTLAKE/PORTAGE BAY',\n",
       "       'CAPITOL HILL', 'NORTHGATE', 'LAKECITY', 'NEW HOLLY',\n",
       "       'RAINIER BEACH', 'QUEEN ANNE', 'RAINIER VIEW', 'BELLTOWN',\n",
       "       'ROOSEVELT/RAVENNA', 'ALASKA JUNCTION', 'GREENWOOD',\n",
       "       'PIONEER SQUARE', 'NORTH BEACON HILL', 'GEORGETOWN',\n",
       "       'SOUTH DELRIDGE', 'HIGHLAND PARK', 'BITTERLAKE', 'MOUNT BAKER',\n",
       "       'MADRONA/LESCHI', 'COLUMBIA CITY', 'NORTH DELRIDGE', 'FREMONT',\n",
       "       'MID BEACON HILL', 'BALLARD NORTH', 'BALLARD SOUTH',\n",
       "       'PHINNEY RIDGE', 'SANDPOINT', 'MAGNOLIA', 'UNIVERSITY',\n",
       "       'CHINATOWN/INTERNATIONAL DISTRICT', 'WALLINGFORD',\n",
       "       'EASTLAKE - WEST', 'SOUTH BEACON HILL', 'ALKI', 'FAUNTLEROY SW',\n",
       "       'PIGEON POINT', 'MADISON PARK', 'GENESEE',\n",
       "       'COMMERCIAL HARBOR ISLAND', 'EASTLAKE - EAST',\n",
       "       'COMMERCIAL DUWAMISH'], dtype=object)"
      ]
     },
     "execution_count": 26,
     "metadata": {},
     "output_type": "execute_result"
    }
   ],
   "source": [
    "#showing array of unique Neighborhoods\n",
    "df.Neighborhood.unique()"
   ]
  },
  {
   "cell_type": "code",
   "execution_count": 27,
   "metadata": {},
   "outputs": [
    {
     "data": {
      "text/plain": [
       "array(['BURGLARY-RESIDENTIAL', 'SEX OFFENSE-OTHER', 'CAR PROWL',\n",
       "       'HOMICIDE', 'MOTOR VEHICLE THEFT', 'THEFT-ALL OTHER', 'DUI',\n",
       "       'AGGRAVATED ASSAULT-DV', 'RAPE', 'AGGRAVATED ASSAULT',\n",
       "       'ROBBERY-STREET', 'BURGLARY-COMMERCIAL', 'THEFT-BICYCLE',\n",
       "       'NARCOTIC', 'PROSTITUTION', 'ARSON', 'PORNOGRAPHY',\n",
       "       'ROBBERY-COMMERCIAL', 'FAMILY OFFENSE-NONVIOLENT',\n",
       "       'THEFT-SHOPLIFT', 'WEAPON', 'THEFT-BUILDING',\n",
       "       'ROBBERY-RESIDENTIAL', 'TRESPASS', 'LIQUOR LAW VIOLATION',\n",
       "       'DISORDERLY CONDUCT', 'GAMBLE', 'LOITERING',\n",
       "       'BURGLARY-COMMERCIAL-SECURE PARKING',\n",
       "       'BURGLARY-RESIDENTIAL-SECURE PARKING'], dtype=object)"
      ]
     },
     "execution_count": 27,
     "metadata": {},
     "output_type": "execute_result"
    }
   ],
   "source": [
    "#showing unique crime subcategories\n",
    "df.crime_subcategory.unique()"
   ]
  },
  {
   "cell_type": "code",
   "execution_count": null,
   "metadata": {},
   "outputs": [],
   "source": []
  }
 ],
 "metadata": {
  "kernelspec": {
   "display_name": "Python 3",
   "language": "python",
   "name": "python3"
  },
  "language_info": {
   "codemirror_mode": {
    "name": "ipython",
    "version": 2
   },
   "file_extension": ".py",
   "mimetype": "text/x-python",
   "name": "python",
   "nbconvert_exporter": "python",
   "pygments_lexer": "ipython2",
   "version": "2.7.15"
  }
 },
 "nbformat": 4,
 "nbformat_minor": 2
}
